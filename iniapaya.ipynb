{
 "cells": [
  {
   "cell_type": "code",
   "execution_count": null,
   "metadata": {},
   "outputs": [],
   "source": [
    "import numpy as np\n",
    "import matplotlib.pyplot as plt\n",
    "import numba\n",
    "import time\n",
    "start_time = time.clock()\n",
    "\n",
    "@numba.jit()\n",
    "def V(u,t):\n",
    "    x1,dx1,x2,dx2=u\n",
    "    ddx1=-w**2 * x1 - b * dx1\n",
    "    ddx2=-(w+0.5)**2 * x2 - (b+0.1) * dx2\n",
    "    return np.array([dx1,ddx1,dx2,ddx2])\n",
    "\n",
    "@numba.jit()\n",
    "def rk4(f,u0,t0,tf,n):\n",
    "    t=np.linspace(t0,tf,n+1)\n",
    "    u=np.array((n+1)*[u0])\n",
    "    h=t[1]-t[0]\n",
    "    for i in range(n):\n",
    "        k1=h*f(u[i],t[i])\n",
    "        k2=h*f(u[i] + 0.5 * k1,t[i] + 0.5*h)\n",
    "        k3=h*f(u[i] + 0.5 * k2,t[i] + 0.5*h)\n",
    "        k4=h*f(u[i] + k3,t[i] + h)\n",
    "        u[i+1] = u[i] + (k1 + 2*(k2+k3) + k4) / 6\n",
    "    return u,t\n",
    "\n",
    "u,t = rk4(V,np.array([0,0.2,0,0.3]),0,100,20000)\n",
    "\n",
    "print(\"Executin time:\", time.clock() - start_time, \"seconds\")\n",
    "x1,dx1,x2,dx2 = u.T\n",
    "plt.plot(x1,x2)\n",
    "plt.xlabel('X1')\n",
    "plt.ylabel('X2')\n",
    "plt.show()"
   ]
  }
 ],
 "metadata": {
  "kernelspec": {
   "display_name": "Python 3.10.7 64-bit",
   "language": "python",
   "name": "python3"
  },
  "language_info": {
   "codemirror_mode": {
    "name": "ipython",
    "version": 3
   },
   "file_extension": ".py",
   "mimetype": "text/x-python",
   "name": "python",
   "nbconvert_exporter": "python",
   "pygments_lexer": "ipython3",
   "version": "3.10.7"
  },
  "orig_nbformat": 4,
  "vscode": {
   "interpreter": {
    "hash": "6955ff0dc1e32296b2f20779412f324840d7a63234a13098188f3587c913821f"
   }
  }
 },
 "nbformat": 4,
 "nbformat_minor": 2
}
